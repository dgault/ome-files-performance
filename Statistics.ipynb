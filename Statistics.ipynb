{
 "cells": [
  {
   "cell_type": "code",
   "execution_count": 1,
   "metadata": {
    "collapsed": true
   },
   "outputs": [],
   "source": [
    "import pandas as pd\n",
    "import matplotlib.pyplot as plt"
   ]
  },
  {
   "cell_type": "code",
   "execution_count": 2,
   "metadata": {
    "collapsed": false,
    "scrolled": false
   },
   "outputs": [
    {
     "data": {
      "text/html": [
       "<div>\n",
       "<table border=\"1\" class=\"dataframe\">\n",
       "  <thead>\n",
       "    <tr style=\"text-align: right;\">\n",
       "      <th></th>\n",
       "      <th>data</th>\n",
       "      <th>platform</th>\n",
       "      <th>lang</th>\n",
       "      <th>pixeldata.read</th>\n",
       "      <th>pixeldata.read.init</th>\n",
       "      <th>pixeldata.read.pixels</th>\n",
       "      <th>pixeldata.write</th>\n",
       "      <th>pixeldata.write.init</th>\n",
       "      <th>pixeldata.write.pixels</th>\n",
       "      <th>pixeldata.write.close</th>\n",
       "    </tr>\n",
       "  </thead>\n",
       "  <tbody>\n",
       "    <tr>\n",
       "      <th>0</th>\n",
       "      <td>bbbc</td>\n",
       "      <td>win</td>\n",
       "      <td>cpp</td>\n",
       "      <td>812327.666667</td>\n",
       "      <td>477664.666667</td>\n",
       "      <td>334663.000000</td>\n",
       "      <td>1.782637e+06</td>\n",
       "      <td>2073.666667</td>\n",
       "      <td>1.779104e+06</td>\n",
       "      <td>1459.000000</td>\n",
       "    </tr>\n",
       "    <tr>\n",
       "      <th>1</th>\n",
       "      <td>bbbc</td>\n",
       "      <td>win</td>\n",
       "      <td>java</td>\n",
       "      <td>157221.666667</td>\n",
       "      <td>2741.666667</td>\n",
       "      <td>154479.666667</td>\n",
       "      <td>4.575163e+05</td>\n",
       "      <td>7.000000</td>\n",
       "      <td>4.528420e+05</td>\n",
       "      <td>4667.000000</td>\n",
       "    </tr>\n",
       "    <tr>\n",
       "      <th>2</th>\n",
       "      <td>bbbc</td>\n",
       "      <td>linux</td>\n",
       "      <td>cpp</td>\n",
       "      <td>179966.666667</td>\n",
       "      <td>113350.000000</td>\n",
       "      <td>66616.666667</td>\n",
       "      <td>1.985867e+05</td>\n",
       "      <td>2013.333333</td>\n",
       "      <td>1.953200e+05</td>\n",
       "      <td>1253.333333</td>\n",
       "    </tr>\n",
       "    <tr>\n",
       "      <th>3</th>\n",
       "      <td>bbbc</td>\n",
       "      <td>linux</td>\n",
       "      <td>java</td>\n",
       "      <td>99591.333333</td>\n",
       "      <td>1584.666667</td>\n",
       "      <td>98006.000000</td>\n",
       "      <td>1.386397e+05</td>\n",
       "      <td>7.000000</td>\n",
       "      <td>1.353783e+05</td>\n",
       "      <td>3253.333333</td>\n",
       "    </tr>\n",
       "    <tr>\n",
       "      <th>4</th>\n",
       "      <td>mitocheck</td>\n",
       "      <td>win</td>\n",
       "      <td>cpp</td>\n",
       "      <td>73710.000000</td>\n",
       "      <td>72665.666667</td>\n",
       "      <td>1044.333333</td>\n",
       "      <td>1.206380e+05</td>\n",
       "      <td>1774.000000</td>\n",
       "      <td>1.162920e+05</td>\n",
       "      <td>2572.000000</td>\n",
       "    </tr>\n",
       "    <tr>\n",
       "      <th>5</th>\n",
       "      <td>mitocheck</td>\n",
       "      <td>win</td>\n",
       "      <td>java</td>\n",
       "      <td>2569.000000</td>\n",
       "      <td>865.333333</td>\n",
       "      <td>1703.000000</td>\n",
       "      <td>1.220833e+04</td>\n",
       "      <td>1.333333</td>\n",
       "      <td>1.079267e+04</td>\n",
       "      <td>1414.000000</td>\n",
       "    </tr>\n",
       "    <tr>\n",
       "      <th>6</th>\n",
       "      <td>mitocheck</td>\n",
       "      <td>linux</td>\n",
       "      <td>cpp</td>\n",
       "      <td>66153.333333</td>\n",
       "      <td>65476.666667</td>\n",
       "      <td>676.666667</td>\n",
       "      <td>1.234000e+04</td>\n",
       "      <td>1623.333333</td>\n",
       "      <td>8.923333e+03</td>\n",
       "      <td>1793.333333</td>\n",
       "    </tr>\n",
       "    <tr>\n",
       "      <th>7</th>\n",
       "      <td>mitocheck</td>\n",
       "      <td>linux</td>\n",
       "      <td>java</td>\n",
       "      <td>1550.666667</td>\n",
       "      <td>589.333333</td>\n",
       "      <td>960.666667</td>\n",
       "      <td>5.203667e+03</td>\n",
       "      <td>1.333333</td>\n",
       "      <td>4.110000e+03</td>\n",
       "      <td>1091.666667</td>\n",
       "    </tr>\n",
       "  </tbody>\n",
       "</table>\n",
       "</div>"
      ],
      "text/plain": [
       "        data platform  lang  pixeldata.read  pixeldata.read.init  \\\n",
       "0       bbbc      win   cpp   812327.666667        477664.666667   \n",
       "1       bbbc      win  java   157221.666667          2741.666667   \n",
       "2       bbbc    linux   cpp   179966.666667        113350.000000   \n",
       "3       bbbc    linux  java    99591.333333          1584.666667   \n",
       "4  mitocheck      win   cpp    73710.000000         72665.666667   \n",
       "5  mitocheck      win  java     2569.000000           865.333333   \n",
       "6  mitocheck    linux   cpp    66153.333333         65476.666667   \n",
       "7  mitocheck    linux  java     1550.666667           589.333333   \n",
       "\n",
       "   pixeldata.read.pixels  pixeldata.write  pixeldata.write.init  \\\n",
       "0          334663.000000     1.782637e+06           2073.666667   \n",
       "1          154479.666667     4.575163e+05              7.000000   \n",
       "2           66616.666667     1.985867e+05           2013.333333   \n",
       "3           98006.000000     1.386397e+05              7.000000   \n",
       "4            1044.333333     1.206380e+05           1774.000000   \n",
       "5            1703.000000     1.220833e+04              1.333333   \n",
       "6             676.666667     1.234000e+04           1623.333333   \n",
       "7             960.666667     5.203667e+03              1.333333   \n",
       "\n",
       "   pixeldata.write.pixels  pixeldata.write.close  \n",
       "0            1.779104e+06            1459.000000  \n",
       "1            4.528420e+05            4667.000000  \n",
       "2            1.953200e+05            1253.333333  \n",
       "3            1.353783e+05            3253.333333  \n",
       "4            1.162920e+05            2572.000000  \n",
       "5            1.079267e+04            1414.000000  \n",
       "6            8.923333e+03            1793.333333  \n",
       "7            4.110000e+03            1091.666667  "
      ]
     },
     "execution_count": 2,
     "metadata": {},
     "output_type": "execute_result"
    }
   ],
   "source": [
    "# Create data frame\n",
    "mycolumns = [\n",
    "    'data','platform','lang',\n",
    "    'pixeldata.read','pixeldata.read.init','pixeldata.read.pixels',\n",
    "    'pixeldata.write','pixeldata.write.init','pixeldata.write.pixels','pixeldata.write.close']\n",
    "d = pd.DataFrame(columns=mycolumns)\n",
    "\n",
    "# Read all CSV files into a data frame\n",
    "for data in ['bbbc', 'mitocheck']:\n",
    "    for platform in ['win', 'linux']:\n",
    "        for lang in ['cpp', 'java']:\n",
    "            if lang == 'java':\n",
    "                name_col = 'test.lang'\n",
    "            else:\n",
    "                name_col = 'test.name'\n",
    "   \n",
    "            # Read initial csv table\n",
    "            file_name = 'results/' + data + '-pixeldata-' + platform + '-' + lang + '.tsv'\n",
    "            table = pd.read_table(file_name,dtype={name_col: str})\n",
    "            \n",
    "            # Store each run as a row\n",
    "            if lang == 'java':\n",
    "                m = table.groupby(['test.name']).mean()\n",
    "                m = m['real']\n",
    "            else:\n",
    "                m = table.groupby(['test.lang']).mean()\n",
    "                m = m['test.file']\n",
    "            m['data'] =  data\n",
    "            m['platform'] = platform\n",
    "            m['lang'] = lang\n",
    "            d.loc[len(d)] = m\n",
    "            \n",
    "d"
   ]
  },
  {
   "cell_type": "code",
   "execution_count": 3,
   "metadata": {
    "collapsed": false
   },
   "outputs": [],
   "source": [
    "# d.columns = [c.replace('.', '_') for c in d.columns]\n",
    "# d.groupby(['data', 'platform']).pixeldata_read.size().unstack().plot(kind='bar', stacked=True)\n"
   ]
  },
  {
   "cell_type": "code",
   "execution_count": 4,
   "metadata": {
    "collapsed": false
   },
   "outputs": [
    {
     "data": {
      "image/png": "[encoded data removed]",
      "text/plain": [
       "<matplotlib.figure.Figure at 0x10874b210>"
      ]
     },
     "metadata": {},
     "output_type": "display_data"
    }
   ],
   "source": [
    "f= plt.figure()\n",
    "ax = d['pixeldata.read'].plot(kind='bar')\n",
    "ax.set_xticklabels(d.data + ' ' + d.platform + ' ' + d.lang)\n",
    "plt.show()"
   ]
  },
  {
   "cell_type": "code",
   "execution_count": 5,
   "metadata": {
    "collapsed": false,
    "scrolled": true
   },
   "outputs": [
    {
     "data": {
      "text/plain": [
       "<matplotlib.figure.Figure at 0x10892f250>"
      ]
     },
     "metadata": {},
     "output_type": "display_data"
    },
    {
     "data": {
      "image/png": "[encoded data removed]",
      "text/plain": [
       "<matplotlib.figure.Figure at 0x10874b190>"
      ]
     },
     "metadata": {},
     "output_type": "display_data"
    }
   ],
   "source": [
    "plt.figure()\n",
    "cols = ['pixeldata.read.init', 'pixeldata.read.pixels']\n",
    "ax = d[cols].plot(kind='bar',stacked=True)\n",
    "ax.set_xticklabels(d.data + ' ' + d.platform + ' ' + d.lang)\n",
    "plt.show()"
   ]
  },
  {
   "cell_type": "code",
   "execution_count": 6,
   "metadata": {
    "collapsed": false,
    "scrolled": true
   },
   "outputs": [
    {
     "data": {
      "image/png": "[encoded data removed]",
      "text/plain": [
       "<matplotlib.figure.Figure at 0x10894d990>"
      ]
     },
     "metadata": {},
     "output_type": "display_data"
    }
   ],
   "source": [
    "plt.figure()\n",
    "ax = d['pixeldata.write'].plot(kind='bar')\n",
    "ax.set_xticklabels(d.data + ' ' + d.platform + ' ' + d.lang)\n",
    "plt.show()"
   ]
  },
  {
   "cell_type": "code",
   "execution_count": 7,
   "metadata": {
    "collapsed": false
   },
   "outputs": [
    {
     "data": {
      "text/plain": [
       "<matplotlib.figure.Figure at 0x108c94090>"
      ]
     },
     "metadata": {},
     "output_type": "display_data"
    },
    {
     "data": {
      "image/png": "[encoded data removed]",
      "text/plain": [
       "<matplotlib.figure.Figure at 0x108b77b90>"
      ]
     },
     "metadata": {},
     "output_type": "display_data"
    }
   ],
   "source": [
    "plt.figure()\n",
    "cols = ['pixeldata.write.init', 'pixeldata.write.pixels', 'pixeldata.write.close']\n",
    "ax = d[cols].plot(kind='bar',stacked=True)\n",
    "ax.set_xticklabels(d.data + ' ' + d.platform + ' ' + d.lang)\n",
    "plt.show()"
   ]
  },
  {
   "cell_type": "code",
   "execution_count": null,
   "metadata": {
    "collapsed": true
   },
   "outputs": [],
   "source": []
  }
 ],
 "metadata": {
  "kernelspec": {
   "display_name": "Python 2",
   "language": "python",
   "name": "python2"
  },
  "language_info": {
   "codemirror_mode": {
    "name": "ipython",
    "version": 2
   },
   "file_extension": ".py",
   "mimetype": "text/x-python",
   "name": "python",
   "nbconvert_exporter": "python",
   "pygments_lexer": "ipython2",
   "version": "2.7.13"
  }
 },
 "nbformat": 4,
 "nbformat_minor": 2
}
