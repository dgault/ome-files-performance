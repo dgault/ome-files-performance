{
 "cells": [
  {
   "cell_type": "code",
   "execution_count": null,
   "metadata": {
    "collapsed": true
   },
   "outputs": [],
   "source": [
    "import pandas as pd\n",
    "import matplotlib.pyplot as plt"
   ]
  },
  {
   "cell_type": "code",
   "execution_count": null,
   "metadata": {
    "collapsed": false,
    "scrolled": false
   },
   "outputs": [],
   "source": [
    "# Create data frame\n",
    "mycolumns = [\n",
    "    'data','platform','lang',\n",
    "    'pixeldata.read','pixeldata.read.init','pixeldata.read.pixels',\n",
    "    'pixeldata.write','pixeldata.write.init','pixeldata.write.pixels','pixeldata.write.close']\n",
    "d = pd.DataFrame(columns=mycolumns)\n",
    "\n",
    "# Read all CSV files into a data frame\n",
    "meas_col = {'cpp': 'proc.real', 'java': 'real'}\n",
    "for data in ['bbbc', 'mitocheck']:\n",
    "    for platform in ['win', 'linux']:\n",
    "        for lang in ['cpp', 'java']:\n",
    "   \n",
    "            # Read initial csv table\n",
    "            file_name = 'results/' + data + '-pixeldata-' + platform + '-' + lang + '.tsv'\n",
    "            table = pd.read_table(file_name,dtype={'test.name': str})\n",
    "            \n",
    "            # Store each run as a row\n",
    "            m = table.groupby(['test.name']).mean()\n",
    "            m = m[meas_col[lang]]\n",
    "            m['data'] =  data\n",
    "            m['platform'] = platform\n",
    "            m['lang'] = lang\n",
    "            d.loc[len(d)] = m\n",
    "            \n",
    "d"
   ]
  },
  {
   "cell_type": "code",
   "execution_count": null,
   "metadata": {
    "collapsed": false
   },
   "outputs": [],
   "source": [
    "# d.columns = [c.replace('.', '_') for c in d.columns]\n",
    "# d.groupby(['data', 'platform']).pixeldata_read.size().unstack().plot(kind='bar', stacked=True)\n"
   ]
  },
  {
   "cell_type": "code",
   "execution_count": null,
   "metadata": {
    "collapsed": false
   },
   "outputs": [],
   "source": [
    "f= plt.figure()\n",
    "ax = d['pixeldata.read'].plot(kind='bar')\n",
    "ax.set_xticklabels(d.data + ' ' + d.platform + ' ' + d.lang)\n",
    "plt.show()"
   ]
  },
  {
   "cell_type": "code",
   "execution_count": null,
   "metadata": {
    "collapsed": false,
    "scrolled": true
   },
   "outputs": [],
   "source": [
    "plt.figure()\n",
    "cols = ['pixeldata.read.init', 'pixeldata.read.pixels']\n",
    "ax = d[cols].plot(kind='bar',stacked=True)\n",
    "ax.set_xticklabels(d.data + ' ' + d.platform + ' ' + d.lang)\n",
    "plt.show()"
   ]
  },
  {
   "cell_type": "code",
   "execution_count": null,
   "metadata": {
    "collapsed": false,
    "scrolled": true
   },
   "outputs": [],
   "source": [
    "plt.figure()\n",
    "ax = d['pixeldata.write'].plot(kind='bar')\n",
    "ax.set_xticklabels(d.data + ' ' + d.platform + ' ' + d.lang)\n",
    "plt.show()"
   ]
  },
  {
   "cell_type": "code",
   "execution_count": null,
   "metadata": {
    "collapsed": false
   },
   "outputs": [],
   "source": [
    "plt.figure()\n",
    "cols = ['pixeldata.write.init', 'pixeldata.write.pixels', 'pixeldata.write.close']\n",
    "ax = d[cols].plot(kind='bar',stacked=True)\n",
    "ax.set_xticklabels(d.data + ' ' + d.platform + ' ' + d.lang)\n",
    "plt.show()"
   ]
  },
  {
   "cell_type": "code",
   "execution_count": null,
   "metadata": {
    "collapsed": true
   },
   "outputs": [],
   "source": []
  }
 ],
 "metadata": {
  "kernelspec": {
   "display_name": "Python 2",
   "language": "python",
   "name": "python2"
  },
  "language_info": {
   "codemirror_mode": {
    "name": "ipython",
    "version": 2
   },
   "file_extension": ".py",
   "mimetype": "text/x-python",
   "name": "python",
   "nbconvert_exporter": "python",
   "pygments_lexer": "ipython2",
   "version": "2.7.13"
  }
 },
 "nbformat": 4,
 "nbformat_minor": 2
}
