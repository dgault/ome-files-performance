{
 "cells": [
  {
   "cell_type": "code",
   "execution_count": 1,
   "metadata": {
    "collapsed": true
   },
   "outputs": [],
   "source": [
    "import pandas as pd\n",
    "import matplotlib.pyplot as plt"
   ]
  },
  {
   "cell_type": "code",
   "execution_count": 2,
   "metadata": {
    "collapsed": false,
    "scrolled": false
   },
   "outputs": [
    {
     "data": {
      "text/html": [
       "<div>\n",
       "<table border=\"1\" class=\"dataframe\">\n",
       "  <thead>\n",
       "    <tr style=\"text-align: right;\">\n",
       "      <th></th>\n",
       "      <th>data</th>\n",
       "      <th>platform</th>\n",
       "      <th>lang</th>\n",
       "      <th>pixeldata.read</th>\n",
       "      <th>pixeldata.read.init</th>\n",
       "      <th>pixeldata.read.pixels</th>\n",
       "      <th>pixeldata.write</th>\n",
       "      <th>pixeldata.write.init</th>\n",
       "      <th>pixeldata.write.pixels</th>\n",
       "    </tr>\n",
       "  </thead>\n",
       "  <tbody>\n",
       "    <tr>\n",
       "      <th>0</th>\n",
       "      <td>bbbc</td>\n",
       "      <td>win</td>\n",
       "      <td>cpp</td>\n",
       "      <td>764210.000000</td>\n",
       "      <td>448454.400000</td>\n",
       "      <td>315755.600000</td>\n",
       "      <td>1.757503e+06</td>\n",
       "      <td>2302.800000</td>\n",
       "      <td>1.755200e+06</td>\n",
       "    </tr>\n",
       "    <tr>\n",
       "      <th>1</th>\n",
       "      <td>bbbc</td>\n",
       "      <td>win</td>\n",
       "      <td>java</td>\n",
       "      <td>154155.000000</td>\n",
       "      <td>2429.200000</td>\n",
       "      <td>151725.400000</td>\n",
       "      <td>4.434706e+05</td>\n",
       "      <td>5.200000</td>\n",
       "      <td>4.434648e+05</td>\n",
       "    </tr>\n",
       "    <tr>\n",
       "      <th>2</th>\n",
       "      <td>bbbc</td>\n",
       "      <td>linux</td>\n",
       "      <td>cpp</td>\n",
       "      <td>178943.333333</td>\n",
       "      <td>112620.000000</td>\n",
       "      <td>66323.333333</td>\n",
       "      <td>1.954433e+05</td>\n",
       "      <td>2026.666667</td>\n",
       "      <td>1.934167e+05</td>\n",
       "    </tr>\n",
       "    <tr>\n",
       "      <th>3</th>\n",
       "      <td>bbbc</td>\n",
       "      <td>linux</td>\n",
       "      <td>java</td>\n",
       "      <td>97849.666667</td>\n",
       "      <td>1594.000000</td>\n",
       "      <td>96254.666667</td>\n",
       "      <td>1.356660e+05</td>\n",
       "      <td>6.666667</td>\n",
       "      <td>1.356583e+05</td>\n",
       "    </tr>\n",
       "    <tr>\n",
       "      <th>4</th>\n",
       "      <td>mitocheck</td>\n",
       "      <td>win</td>\n",
       "      <td>cpp</td>\n",
       "      <td>72975.000000</td>\n",
       "      <td>71956.800000</td>\n",
       "      <td>1018.200000</td>\n",
       "      <td>1.193306e+05</td>\n",
       "      <td>1749.200000</td>\n",
       "      <td>1.175814e+05</td>\n",
       "    </tr>\n",
       "    <tr>\n",
       "      <th>5</th>\n",
       "      <td>mitocheck</td>\n",
       "      <td>win</td>\n",
       "      <td>java</td>\n",
       "      <td>2231.200000</td>\n",
       "      <td>682.800000</td>\n",
       "      <td>1548.200000</td>\n",
       "      <td>1.200780e+04</td>\n",
       "      <td>0.800000</td>\n",
       "      <td>1.200680e+04</td>\n",
       "    </tr>\n",
       "    <tr>\n",
       "      <th>6</th>\n",
       "      <td>mitocheck</td>\n",
       "      <td>linux</td>\n",
       "      <td>cpp</td>\n",
       "      <td>56796.666667</td>\n",
       "      <td>56123.333333</td>\n",
       "      <td>673.333333</td>\n",
       "      <td>1.222333e+04</td>\n",
       "      <td>1636.666667</td>\n",
       "      <td>1.058667e+04</td>\n",
       "    </tr>\n",
       "    <tr>\n",
       "      <th>7</th>\n",
       "      <td>mitocheck</td>\n",
       "      <td>linux</td>\n",
       "      <td>java</td>\n",
       "      <td>1550.000000</td>\n",
       "      <td>602.666667</td>\n",
       "      <td>946.666667</td>\n",
       "      <td>5.280667e+03</td>\n",
       "      <td>1.000000</td>\n",
       "      <td>5.279333e+03</td>\n",
       "    </tr>\n",
       "  </tbody>\n",
       "</table>\n",
       "</div>"
      ],
      "text/plain": [
       "        data platform  lang  pixeldata.read  pixeldata.read.init  \\\n",
       "0       bbbc      win   cpp   764210.000000        448454.400000   \n",
       "1       bbbc      win  java   154155.000000          2429.200000   \n",
       "2       bbbc    linux   cpp   178943.333333        112620.000000   \n",
       "3       bbbc    linux  java    97849.666667          1594.000000   \n",
       "4  mitocheck      win   cpp    72975.000000         71956.800000   \n",
       "5  mitocheck      win  java     2231.200000           682.800000   \n",
       "6  mitocheck    linux   cpp    56796.666667         56123.333333   \n",
       "7  mitocheck    linux  java     1550.000000           602.666667   \n",
       "\n",
       "   pixeldata.read.pixels  pixeldata.write  pixeldata.write.init  \\\n",
       "0          315755.600000     1.757503e+06           2302.800000   \n",
       "1          151725.400000     4.434706e+05              5.200000   \n",
       "2           66323.333333     1.954433e+05           2026.666667   \n",
       "3           96254.666667     1.356660e+05              6.666667   \n",
       "4            1018.200000     1.193306e+05           1749.200000   \n",
       "5            1548.200000     1.200780e+04              0.800000   \n",
       "6             673.333333     1.222333e+04           1636.666667   \n",
       "7             946.666667     5.280667e+03              1.000000   \n",
       "\n",
       "   pixeldata.write.pixels  \n",
       "0            1.755200e+06  \n",
       "1            4.434648e+05  \n",
       "2            1.934167e+05  \n",
       "3            1.356583e+05  \n",
       "4            1.175814e+05  \n",
       "5            1.200680e+04  \n",
       "6            1.058667e+04  \n",
       "7            5.279333e+03  "
      ]
     },
     "execution_count": 2,
     "metadata": {},
     "output_type": "execute_result"
    }
   ],
   "source": [
    "# Create data frame\n",
    "mycolumns = [\n",
    "    'data','platform','lang',\n",
    "    'pixeldata.read','pixeldata.read.init','pixeldata.read.pixels',\n",
    "    'pixeldata.write','pixeldata.write.init','pixeldata.write.pixels']\n",
    "d = pd.DataFrame(columns=mycolumns)\n",
    "\n",
    "# Read all CSV files into a data frame\n",
    "for data in ['bbbc', 'mitocheck']:\n",
    "    for platform in ['win', 'linux']:\n",
    "        for lang in ['cpp', 'java']:\n",
    "            if lang == 'java':\n",
    "                name_col = 'test.lang'\n",
    "            else:\n",
    "                name_col = 'test.name'\n",
    "   \n",
    "            # Read initial csv table\n",
    "            file_name = 'results/' + data + '-pixeldata-' + platform + '-' + lang + '.tsv'\n",
    "            table = pd.read_table(file_name,dtype={name_col: str})\n",
    "            \n",
    "            # Store each run as a row\n",
    "            if lang == 'java':\n",
    "                m = table.groupby(['test.name']).mean()\n",
    "                m = m['real']\n",
    "            else:\n",
    "                m = table.groupby(['test.lang']).mean()\n",
    "                m = m['test.file']\n",
    "            m['data'] =  data\n",
    "            m['platform'] = platform\n",
    "            m['lang'] = lang\n",
    "            d.loc[len(d)] = m\n",
    "            \n",
    "d"
   ]
  },
  {
   "cell_type": "code",
   "execution_count": 3,
   "metadata": {
    "collapsed": false
   },
   "outputs": [],
   "source": [
    "# d.columns = [c.replace('.', '_') for c in d.columns]\n",
    "# d.groupby(['data', 'platform']).pixeldata_read.size().unstack().plot(kind='bar', stacked=True)\n"
   ]
  },
  {
   "cell_type": "code",
   "execution_count": 4,
   "metadata": {
    "collapsed": false
   },
   "outputs": [
    {
     "data": {
      "image/png": "[encoded data removed]",
      "text/plain": [
       "<matplotlib.figure.Figure at 0x105728250>"
      ]
     },
     "metadata": {},
     "output_type": "display_data"
    }
   ],
   "source": [
    "f= plt.figure()\n",
    "ax = d['pixeldata.read'].plot(kind='bar')\n",
    "ax.set_xticklabels(d.data + ' ' + d.platform + ' ' + d.lang)\n",
    "plt.show()"
   ]
  },
  {
   "cell_type": "code",
   "execution_count": 5,
   "metadata": {
    "collapsed": false,
    "scrolled": true
   },
   "outputs": [
    {
     "data": {
      "text/plain": [
       "<matplotlib.figure.Figure at 0x1058ff090>"
      ]
     },
     "metadata": {},
     "output_type": "display_data"
    },
    {
     "data": {
      "image/png": "[encoded data removed]",
      "text/plain": [
       "<matplotlib.figure.Figure at 0x1058476d0>"
      ]
     },
     "metadata": {},
     "output_type": "display_data"
    }
   ],
   "source": [
    "plt.figure()\n",
    "cols = ['pixeldata.read.init', 'pixeldata.read.pixels']\n",
    "ax = d[cols].plot(kind='bar',stacked=True)\n",
    "ax.set_xticklabels(d.data + ' ' + d.platform + ' ' + d.lang)\n",
    "plt.show()"
   ]
  },
  {
   "cell_type": "code",
   "execution_count": 6,
   "metadata": {
    "collapsed": false,
    "scrolled": true
   },
   "outputs": [
    {
     "data": {
      "image/png": "[encoded data removed]",
      "text/plain": [
       "<matplotlib.figure.Figure at 0x10591f910>"
      ]
     },
     "metadata": {},
     "output_type": "display_data"
    }
   ],
   "source": [
    "plt.figure()\n",
    "ax = d['pixeldata.write'].plot(kind='bar')\n",
    "ax.set_xticklabels(d.data + ' ' + d.platform + ' ' + d.lang)\n",
    "plt.show()"
   ]
  },
  {
   "cell_type": "code",
   "execution_count": 7,
   "metadata": {
    "collapsed": false
   },
   "outputs": [
    {
     "data": {
      "text/plain": [
       "<matplotlib.figure.Figure at 0x105c65090>"
      ]
     },
     "metadata": {},
     "output_type": "display_data"
    },
    {
     "data": {
      "image/png": "[encoded data removed]",
      "text/plain": [
       "<matplotlib.figure.Figure at 0x105b327d0>"
      ]
     },
     "metadata": {},
     "output_type": "display_data"
    }
   ],
   "source": [
    "plt.figure()\n",
    "cols = ['pixeldata.write.init', 'pixeldata.write.pixels']\n",
    "ax = d[cols].plot(kind='bar',stacked=True)\n",
    "ax.set_xticklabels(d.data + ' ' + d.platform + ' ' + d.lang)\n",
    "plt.show()"
   ]
  },
  {
   "cell_type": "code",
   "execution_count": null,
   "metadata": {
    "collapsed": true
   },
   "outputs": [],
   "source": []
  }
 ],
 "metadata": {
  "kernelspec": {
   "display_name": "Python 2",
   "language": "python",
   "name": "python2"
  },
  "language_info": {
   "codemirror_mode": {
    "name": "ipython",
    "version": 2
   },
   "file_extension": ".py",
   "mimetype": "text/x-python",
   "name": "python",
   "nbconvert_exporter": "python",
   "pygments_lexer": "ipython2",
   "version": "2.7.13"
  }
 },
 "nbformat": 4,
 "nbformat_minor": 2
}
